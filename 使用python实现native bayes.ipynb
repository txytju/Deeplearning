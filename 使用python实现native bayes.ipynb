{
 "cells": [
  {
   "cell_type": "code",
   "execution_count": 27,
   "metadata": {
    "collapsed": false
   },
   "outputs": [],
   "source": [
    "import jieba\n",
    "from math import log"
   ]
  },
  {
   "cell_type": "code",
   "execution_count": 3,
   "metadata": {
    "collapsed": true
   },
   "outputs": [],
   "source": [
    "# 统计训练集中正负情绪的比例"
   ]
  },
  {
   "cell_type": "code",
   "execution_count": 4,
   "metadata": {
    "collapsed": false
   },
   "outputs": [],
   "source": [
    "pos_train = open('pos_train.txt','rb').readlines()\n",
    "neg_train = open('neg_train.txt','rb').readlines()"
   ]
  },
  {
   "cell_type": "code",
   "execution_count": 5,
   "metadata": {
    "collapsed": false
   },
   "outputs": [
    {
     "name": "stdout",
     "output_type": "stream",
     "text": [
      "0.47112177662084115 0.5288782233791589\n"
     ]
    }
   ],
   "source": [
    "len_pos = len(pos_train)\n",
    "len_neg = len(neg_train)\n",
    "# 注意 python2 和 python3 的区别\n",
    "p_pos = len_pos / (len_pos + len_neg)\n",
    "p_neg = len_neg / (len_pos + len_neg)\n",
    "# 基于训练集统计出来的正面负面情绪的概率\n",
    "print(p_pos, p_neg)"
   ]
  },
  {
   "cell_type": "code",
   "execution_count": 6,
   "metadata": {
    "collapsed": true
   },
   "outputs": [],
   "source": [
    "pos_dic = {}\n",
    "neg_dic = {}"
   ]
  },
  {
   "cell_type": "code",
   "execution_count": 7,
   "metadata": {
    "collapsed": false
   },
   "outputs": [
    {
     "name": "stderr",
     "output_type": "stream",
     "text": [
      "Building prefix dict from the default dictionary ...\n",
      "Loading model from cache C:\\Users\\TXY\\AppData\\Local\\Temp\\jieba.cache\n",
      "Loading model cost 1.039 seconds.\n",
      "Prefix dict has been built succesfully.\n"
     ]
    }
   ],
   "source": [
    "for i in range(0,len_pos) :\n",
    "    pos_sentence = pos_train[i].decode('utf-8')\n",
    "    pos_sentence_cut = jieba.cut(pos_sentence)\n",
    "    for word in pos_sentence_cut :\n",
    "        if word in pos_dic :\n",
    "            pos_dic[word] += 1\n",
    "        else :\n",
    "            pos_dic[word] = 1"
   ]
  },
  {
   "cell_type": "code",
   "execution_count": 8,
   "metadata": {
    "collapsed": true
   },
   "outputs": [],
   "source": [
    "for i in range(0,len_neg):\n",
    "    neg_sentence = neg_train[i].decode('utf-8')\n",
    "    neg_sentence_cut = jieba.cut(neg_sentence)\n",
    "    for word in neg_sentence_cut :\n",
    "        if word in neg_dic :\n",
    "            neg_dic[word] += 1\n",
    "        else :\n",
    "            neg_dic[word] = 1"
   ]
  },
  {
   "cell_type": "code",
   "execution_count": 9,
   "metadata": {
    "collapsed": true
   },
   "outputs": [],
   "source": [
    "# 得到了两个字典\n",
    "# pos_dic\n",
    "# neg_dic"
   ]
  },
  {
   "cell_type": "code",
   "execution_count": 10,
   "metadata": {
    "collapsed": false
   },
   "outputs": [],
   "source": [
    "# 测试集\n",
    "pos_test = open('pos_test.txt','rb').readlines()\n",
    "len_pos_test = len(pos_test)"
   ]
  },
  {
   "cell_type": "code",
   "execution_count": 34,
   "metadata": {
    "collapsed": false
   },
   "outputs": [
    {
     "name": "stdout",
     "output_type": "stream",
     "text": [
      "618005\n",
      "0\n",
      "618005\n",
      "0\n",
      "618005\n",
      "0\n",
      "618005\n",
      "0\n",
      "618005\n",
      "0\n",
      "618005\n",
      "0\n",
      "618005\n",
      "0\n",
      "618005\n",
      "0\n",
      "618005\n",
      "0\n",
      "618005\n",
      "0\n"
     ]
    }
   ],
   "source": [
    "for i in range(0,10) :\n",
    "    \n",
    "    log_p_pos = 0\n",
    "    log_p_neg = 0\n",
    "    \n",
    "    ## 注意 = 与 == 的区别， dic_a = dic_b  and dic_a == dic_b\n",
    "    pos_dic_tem = {}\n",
    "    neg_dic_tem = {}\n",
    "    \n",
    "    for word in pos_dic :\n",
    "        pos_dic_tem[word] = pos_dic[word]\n",
    "    for word in neg_dic :\n",
    "        neg_dic_tem[word] = neg_dic[word]\n",
    "   \n",
    "    \n",
    "    # 分词\n",
    "    sentence = pos_test[i].decode('utf-8')\n",
    "    sentence_cut = jieba.cut(sentence)\n",
    "    \n",
    "    All_in = True\n",
    "    \n",
    "    # 首先统计句子是正面情绪的概率\n",
    "    \n",
    "    for word in sentence_cut :\n",
    "        \n",
    "        # 使用拉普拉斯平滑修正 pos_dic_tem\n",
    "        # 如果句子中的每一个词都在 pos_dic 中，则不对 pos_dic_tem 进行修改\n",
    "        # 如果有词不在 pos_dic 中，则每个单词的词频都加1   \n",
    "        \n",
    "        \n",
    "        if word not in pos_dic :\n",
    "            pos_dic_tem[word] = 0\n",
    "            All_in = False\n",
    "    \n",
    "    \n",
    "    if All_in == False :\n",
    "        for word in pos_dic_tem :\n",
    "            pos_dic_tem[word] += 1\n",
    "\n",
    "    \n",
    "    # 对 pos_dic_tem 修改完成\n",
    "    # 计算正面情绪下该句子出现的概率\n",
    "    \n",
    "    pos_tem_sum = sum(pos_dic_tem.values())\n",
    "    \n",
    "    print(pos_tem_sum)\n",
    "    \n",
    "    \n",
    "### 为啥都是0？？？    \n",
    "    for word in sentence_cut :\n",
    "        log_p_pos += log(pos_dic_tem[word]) - log(pos_tem_sum)\n",
    "\n",
    "    print(log_p_pos)"
   ]
  },
  {
   "cell_type": "code",
   "execution_count": null,
   "metadata": {
    "collapsed": true
   },
   "outputs": [],
   "source": []
  },
  {
   "cell_type": "code",
   "execution_count": 8,
   "metadata": {
    "collapsed": false
   },
   "outputs": [
    {
     "name": "stdout",
     "output_type": "stream",
     "text": [
      "<class 'generator'>\n",
      "装\n",
      "了\n",
      "xp\n",
      "系统\n",
      "后\n",
      "，\n",
      "没有\n",
      "出现\n",
      "网友\n",
      "说\n",
      "的\n",
      "驱动\n",
      "不好\n",
      "装\n",
      "的\n",
      "情况\n",
      "\n",
      "\n",
      "Full Mode: \n"
     ]
    }
   ],
   "source": [
    "pos_0 = pos_train[0].decode('utf-8')\n",
    "pos_0_cut = jieba.cut(pos_0)\n",
    "print(type(pos_0_cut))\n",
    "for word in pos_0_cut :\n",
    "    print(word)\n",
    "print(\"Full Mode: \" + \"/ \".join(pos_0_cut))"
   ]
  },
  {
   "cell_type": "code",
   "execution_count": null,
   "metadata": {
    "collapsed": true
   },
   "outputs": [],
   "source": []
  },
  {
   "cell_type": "code",
   "execution_count": null,
   "metadata": {
    "collapsed": true
   },
   "outputs": [],
   "source": []
  },
  {
   "cell_type": "code",
   "execution_count": null,
   "metadata": {
    "collapsed": true
   },
   "outputs": [],
   "source": []
  },
  {
   "cell_type": "code",
   "execution_count": null,
   "metadata": {
    "collapsed": true
   },
   "outputs": [],
   "source": []
  },
  {
   "cell_type": "code",
   "execution_count": null,
   "metadata": {
    "collapsed": true
   },
   "outputs": [],
   "source": []
  },
  {
   "cell_type": "code",
   "execution_count": 23,
   "metadata": {
    "collapsed": false
   },
   "outputs": [],
   "source": [
    "# Laplace smoothing"
   ]
  },
  {
   "cell_type": "code",
   "execution_count": null,
   "metadata": {
    "collapsed": true
   },
   "outputs": [],
   "source": []
  }
 ],
 "metadata": {
  "anaconda-cloud": {},
  "kernelspec": {
   "display_name": "Python [default]",
   "language": "python",
   "name": "python3"
  },
  "language_info": {
   "codemirror_mode": {
    "name": "ipython",
    "version": 3
   },
   "file_extension": ".py",
   "mimetype": "text/x-python",
   "name": "python",
   "nbconvert_exporter": "python",
   "pygments_lexer": "ipython3",
   "version": "3.5.2"
  }
 },
 "nbformat": 4,
 "nbformat_minor": 1
}
